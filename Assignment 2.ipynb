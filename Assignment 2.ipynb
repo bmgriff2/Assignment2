{
 "cells": [
  {
   "cell_type": "code",
   "execution_count": 155,
   "metadata": {
    "collapsed": true
   },
   "outputs": [],
   "source": [
    "## Assignment 2 ##\n",
    "\n",
    "import numpy as np\n",
    "from numpy import genfromtxt\n",
    "import matplotlib.pyplot as plt\n",
    "import scipy\n",
    "from scipy import misc\n",
    "from sklearn import preprocessing\n",
    "from sklearn.model_selection import train_test_split\n",
    "from sklearn.metrics import accuracy_score\n",
    "import random\n",
    "import math\n",
    "import matplotlib.pyplot as plt"
   ]
  },
  {
   "cell_type": "code",
   "execution_count": 70,
   "metadata": {
    "collapsed": true
   },
   "outputs": [],
   "source": [
    "A = genfromtxt('adult_data.csv', delimiter=',')\n",
    "B = genfromtxt('adult_data.csv', delimiter=',',dtype=str)\n",
    "#np.savetxt('Resized_Images111.csv', resized_images, delimiter=',')\n",
    "\n",
    "features = A[:,[0,2,4,10,11,12]]\n",
    "labels = B[:,14]\n",
    "\n",
    "features_scaled = preprocessing.scale(features, with_mean=False)"
   ]
  },
  {
   "cell_type": "code",
   "execution_count": 71,
   "metadata": {},
   "outputs": [
    {
     "data": {
      "text/plain": [
       "(48842, 6)"
      ]
     },
     "execution_count": 71,
     "metadata": {},
     "output_type": "execute_result"
    }
   ],
   "source": [
    "np.shape(features)\n",
    "#np.shape(labels)\n"
   ]
  },
  {
   "cell_type": "code",
   "execution_count": 80,
   "metadata": {},
   "outputs": [
    {
     "name": "stderr",
     "output_type": "stream",
     "text": [
      "/Users/brian/anaconda3/lib/python3.6/site-packages/ipykernel_launcher.py:2: FutureWarning: elementwise comparison failed; returning scalar instead, but in the future will perform elementwise comparison\n",
      "  \n",
      "/Users/brian/anaconda3/lib/python3.6/site-packages/ipykernel_launcher.py:3: FutureWarning: elementwise comparison failed; returning scalar instead, but in the future will perform elementwise comparison\n",
      "  This is separate from the ipykernel package so we can avoid doing imports until\n",
      "/Users/brian/anaconda3/lib/python3.6/site-packages/ipykernel_launcher.py:4: FutureWarning: elementwise comparison failed; returning scalar instead, but in the future will perform elementwise comparison\n",
      "  after removing the cwd from sys.path.\n",
      "/Users/brian/anaconda3/lib/python3.6/site-packages/ipykernel_launcher.py:5: FutureWarning: elementwise comparison failed; returning scalar instead, but in the future will perform elementwise comparison\n",
      "  \"\"\"\n"
     ]
    },
    {
     "data": {
      "text/plain": [
       "True"
      ]
     },
     "execution_count": 80,
     "metadata": {},
     "output_type": "execute_result"
    }
   ],
   "source": [
    "#Cleaning labels to be 1 and -1\n",
    "labels[labels == ' <=50K'] = -1\n",
    "labels[labels == ' <=50K.'] = -1\n",
    "labels[labels == ' >50K'] = 1\n",
    "labels[labels == ' >50K.'] = 1\n",
    "labels=list(labels)\n",
    "for ind,l in enumerate(labels):\n",
    "    labels[ind]=int(l)\n",
    "labels=np.array(labels)\n",
    "all([l==1 or l==-1 for l in labels])"
   ]
  },
  {
   "cell_type": "code",
   "execution_count": 73,
   "metadata": {},
   "outputs": [
    {
     "data": {
      "text/plain": [
       "array([-1, -1,  1, ...,  1, -1, -1])"
      ]
     },
     "execution_count": 73,
     "metadata": {},
     "output_type": "execute_result"
    }
   ],
   "source": [
    "td,test_features,tl,test_labels= train_test_split(features_scaled, labels, test_size=.1)\n",
    "train_features, validated_features,train_labels, validated_labels = train_test_split(td,tl,test_size=int(.1*len(labels)))\n",
    "test_labels"
   ]
  },
  {
   "cell_type": "code",
   "execution_count": 163,
   "metadata": {
    "collapsed": true
   },
   "outputs": [],
   "source": [
    "# Defining Variables\n",
    "REG_CONS = [0.001, 0.01, 0.1, 1.0]\n",
    "EPOCHS = 50\n",
    "STEPS = 300\n",
    "M = 100\n",
    "N=5000\n",
    "BATCH_SIZE=1\n",
    "NUM_HELD_OUT=50\n",
    "EVAL_STEP=30"
   ]
  },
  {
   "cell_type": "code",
   "execution_count": 164,
   "metadata": {},
   "outputs": [],
   "source": [
    "acc_best_model=0\n",
    "acc_lamb=np.zeros(len(REG_CONS))\n",
    "acc_mag=[]\n",
    "len_acc=0\n",
    "len_mag=0\n",
    "accs=[]\n",
    "mags=[]\n",
    "for lamb in REG_CONS:\n",
    "    svc_model, acc,mag=svc_train(train_features,train_labels,lamb, M,N,BATCH_SIZE, EPOCHS, STEPS, NUM_HELD_OUT,EVAL_STEP)\n",
    "    accs=np.append(accs,acc)\n",
    "    mags=np.append(mags,mag)\n",
    "    if len_acc != len(acc) and len_acc !=0:\n",
    "        print(\"Look at this\")\n",
    "        print(len(acc))\n",
    "    len_acc=len(acc)\n",
    "    len_mags=len(mag)\n",
    "    pred = svc_predict(svc_model,validated_features)\n",
    "    accuracy=accuracy_score(validated_labels,pred)\n",
    "    if accuracy> acc_best_model:\n",
    "        best_model=(svc_model,lamb)\n",
    "        acc_best_model=accuracy\n",
    "accs.resize((len(REG_CONS),len_acc))\n",
    "mags.resize((len(REG_CONS),len_acc))"
   ]
  },
  {
   "cell_type": "code",
   "execution_count": 161,
   "metadata": {},
   "outputs": [
    {
     "data": {
      "image/png": "[encoded data removed]",
      "text/plain": [
       "<matplotlib.figure.Figure at 0x1a11203630>"
      ]
     },
     "metadata": {},
     "output_type": "display_data"
    }
   ],
   "source": [
    "stps=list(range(30,EPOCHS*STEPS+1,30))\n",
    "plt.plot(stps,accs[0])\n",
    "plt.show()"
   ]
  },
  {
   "cell_type": "code",
   "execution_count": 138,
   "metadata": {},
   "outputs": [
    {
     "data": {
      "text/plain": [
       "array([ 0.02968907,  0.3323347 ,  0.74122711,  0.75154883,  0.38718988,\n",
       "        0.38685878,  0.41462698])"
      ]
     },
     "execution_count": 138,
     "metadata": {},
     "output_type": "execute_result"
    }
   ],
   "source": [
    "np.random.rand(7)"
   ]
  },
  {
   "cell_type": "code",
   "execution_count": 165,
   "metadata": {
    "collapsed": true
   },
   "outputs": [],
   "source": [
    "def svc_train(trFeatures, trLabels,lamb,m,n,batch_size,num_epochs,num_steps,num_held_out, eval_step):\n",
    "    num_dimensions=trFeatures.shape[1]\n",
    "    a=np.random.rand(num_dimensions)\n",
    "    b=float(np.random.rand(1))\n",
    "    acc=np.array([])\n",
    "    mag=np.array([])\n",
    "    for season in range(num_epochs):\n",
    "        trFeat,valFeat,trLab,valLab=train_test_split(trFeatures,trLabels,test_size=num_held_out)\n",
    "        step_size=m/(season+n)\n",
    "        for cur_step in range(num_steps):\n",
    "            #evaluate our current model\n",
    "            if (cur_step +1) % eval_step ==0:\n",
    "                pred=svc_predict((a,b),valFeat)\n",
    "                acc=np.append(acc,accuracy_score(valLab,pred))\n",
    "                mag=np.append(mag,np.linalg.norm(a))\n",
    "            # randomly choose data point for stochastic gradient descent\n",
    "            rand_index=random.choice(range(len(trFeat)))\n",
    "            data_item=trFeat[rand_index]\n",
    "            data_label=trLab[rand_index]\n",
    "            # calculate aTxk +b\n",
    "            gamma=np.dot(a,data_item)+b\n",
    "            #update model based on data point\n",
    "            if data_label *gamma >=1:\n",
    "                a=a-step_size*lamb*a\n",
    "                #statement below for clarity\n",
    "                b=b\n",
    "            else:\n",
    "                a=a-step_size*(lamb*a - data_label*data_item)\n",
    "                b=b-step_size*(-data_label)\n",
    "    return (a,b),acc,mag"
   ]
  },
  {
   "cell_type": "code",
   "execution_count": 166,
   "metadata": {
    "collapsed": true
   },
   "outputs": [],
   "source": [
    "def svc_predict(model,features):\n",
    "    pred=np.zeros(len(features))\n",
    "    a=model[0]\n",
    "    b=model[1]\n",
    "    for ind,x in enumerate(features):\n",
    "        gamma=np.dot(a,x)+b\n",
    "        if gamma>=0:\n",
    "            pred[ind]=1\n",
    "        else:\n",
    "            pred[ind]=-1\n",
    "    return pred"
   ]
  }
 ],
 "metadata": {
  "kernelspec": {
   "display_name": "Python 3",
   "language": "python",
   "name": "python3"
  },
  "language_info": {
   "codemirror_mode": {
    "name": "ipython",
    "version": 3
   },
   "file_extension": ".py",
   "mimetype": "text/x-python",
   "name": "python",
   "nbconvert_exporter": "python",
   "pygments_lexer": "ipython3",
   "version": "3.6.2"
  },
  "widgets": {
   "application/vnd.jupyter.widget-state+json": {
    "state": {},
    "version_major": 1,
    "version_minor": 0
   }
  }
 },
 "nbformat": 4,
 "nbformat_minor": 2
}
