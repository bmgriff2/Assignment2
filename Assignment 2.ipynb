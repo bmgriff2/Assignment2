{
 "cells": [
  {
   "cell_type": "code",
   "execution_count": 14,
   "metadata": {
    "collapsed": true
   },
   "outputs": [],
   "source": [
    "## Assignment 2 ##\n",
    "\n",
    "import numpy as np\n",
    "from numpy import genfromtxt\n",
    "import matplotlib.pyplot as plt\n",
    "import scipy\n",
    "from scipy import misc\n",
    "from sklearn import preprocessing\n",
    "from sklearn.model_selection import train_test_split\n",
    "A = genfromtxt('adult_data.csv', delimiter=',')\n",
    "B = genfromtxt('adult_data.csv', delimiter=',',dtype=str)\n",
    "#np.savetxt('Resized_Images111.csv', resized_images, delimiter=',')\n",
    "\n",
    "features = A[:,[0,2,4,10,11,12]]\n",
    "labels = B[:,14]\n",
    "\n",
    "features_scaled = preprocessing.scale(features)\n"
   ]
  },
  {
   "cell_type": "code",
   "execution_count": 6,
   "metadata": {},
   "outputs": [
    {
     "data": {
      "text/plain": [
       "(48842, 6)"
      ]
     },
     "execution_count": 6,
     "metadata": {},
     "output_type": "execute_result"
    }
   ],
   "source": [
    "np.shape(features)\n",
    "#np.shape(labels)\n"
   ]
  },
  {
   "cell_type": "code",
   "execution_count": 33,
   "metadata": {},
   "outputs": [
    {
     "data": {
      "text/plain": [
       "list"
      ]
     },
     "execution_count": 33,
     "metadata": {},
     "output_type": "execute_result"
    }
   ],
   "source": [
    "# Removing missing examples from feature 3 (missing examples => elements with value = 0)\n",
    "#features = features[np.nonzero(features[:,3])]\n",
    "\n",
    "# Removing missing examples from feature  (missing examples => elements with value = 0)\n",
    "for i in range(len(labels)):\n",
    "    if labels[i] == '<=50k':\n",
    "        labels[i] = -1\n",
    "    if labels[i] == '>50k':\n",
    "        labels[i] = 1\n",
    "#features = features[np.nonzero(features[:,4])]\n",
    "temp[temp == ' <=50k'] = -1\n",
    "temp[temp == '>50k'] = 1\n",
    "#temp = labels.tolist()\n",
    "#print(type(temp[0]))\n",
    "type(temp)"
   ]
  },
  {
   "cell_type": "code",
   "execution_count": 17,
   "metadata": {},
   "outputs": [
    {
     "data": {
      "text/plain": [
       "array([' <=50K', ' >50K', ' <=50K', ..., ' <=50K', ' <=50K', ' <=50K'],\n",
       "      dtype='<U27')"
      ]
     },
     "execution_count": 17,
     "metadata": {},
     "output_type": "execute_result"
    }
   ],
   "source": [
    "td,test_features,tl,test_labels= train_test_split(features_scaled, labels, test_size=.1)\n",
    "train_features, validated_features,train_labels, validated_labels = train_test_split(td,tl,test_size=int(.1*len(labels)))\n",
    "test_labels"
   ]
  },
  {
   "cell_type": "code",
   "execution_count": 8,
   "metadata": {
    "collapsed": true
   },
   "outputs": [],
   "source": [
    "#Creating Feature Sets\n",
    "np.random.shuffle(features_scaled)\n",
    "x_training, x_test, x_val = features_scaled[:int(len(features_scaled)*0.8),:], features_scaled[int(0.8*len(features_scaled)):int(0.9*len(features_scaled)),:], features_scaled[int(0.9*len(features_scaled)):int(1.0*len(features_scaled)),:]\n",
    "\n",
    "#Creating Label Sets\n",
    "np.random.shuffle(labels)\n",
    "y_training, y_test, y_val = labels[:int(len(labels)*0.8)], labels[int(0.8*len(labels)):int(0.9*len(labels))], labels[int(0.9*len(labels)):int(1.0*len(labels))]\n",
    "\n",
    "#Returning 'features_scaled' and 'labels' to original form\n",
    "features_scaled = A[:,[0,2,4,10,11,12]]\n",
    "labels = B[:,14]"
   ]
  },
  {
   "cell_type": "code",
   "execution_count": 9,
   "metadata": {
    "collapsed": true
   },
   "outputs": [],
   "source": [
    "# Defining Variables\n",
    "reg_cons = [0.001, 0.01, 0.1, 1.0]\n",
    "epochs = 50\n",
    "steps = 300"
   ]
  },
  {
   "cell_type": "code",
   "execution_count": 13,
   "metadata": {},
   "outputs": [
    {
     "data": {
      "text/plain": [
       "False"
      ]
     },
     "execution_count": 13,
     "metadata": {},
     "output_type": "execute_result"
    }
   ],
   "source": [
    "np.isnan(features_scaled).any()"
   ]
  },
  {
   "cell_type": "code",
   "execution_count": null,
   "metadata": {
    "collapsed": true
   },
   "outputs": [],
   "source": []
  }
 ],
 "metadata": {
  "kernelspec": {
   "display_name": "Python 3",
   "language": "python",
   "name": "python3"
  },
  "language_info": {
   "codemirror_mode": {
    "name": "ipython",
    "version": 3
   },
   "file_extension": ".py",
   "mimetype": "text/x-python",
   "name": "python",
   "nbconvert_exporter": "python",
   "pygments_lexer": "ipython3",
   "version": "3.6.2"
  },
  "widgets": {
   "application/vnd.jupyter.widget-state+json": {
    "state": {},
    "version_major": 1,
    "version_minor": 0
   }
  }
 },
 "nbformat": 4,
 "nbformat_minor": 2
}
